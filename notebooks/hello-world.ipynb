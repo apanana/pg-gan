{
  "nbformat": 4,
  "nbformat_minor": 0,
  "metadata": {
    "colab": {
      "name": "colab-github-demo.ipynb",
      "provenance": [],
      "collapsed_sections": [],
      "include_colab_link": true
    },
    "kernelspec": {
      "display_name": "Python 3",
      "name": "python3"
    },
    "accelerator": "TPU"
  },
  "cells": [
    {
      "cell_type": "markdown",
      "metadata": {
        "id": "view-in-github",
        "colab_type": "text"
      },
      "source": [
        "<a href=\"https://colab.research.google.com/github/apanana/pg-gan/blob/colab/notebooks/hello-world.ipynb\" target=\"_parent\"><img src=\"https://colab.research.google.com/assets/colab-badge.svg\" alt=\"Open In Colab\"/></a>"
      ]
    },
    {
      "cell_type": "markdown",
      "metadata": {
        "id": "aDw5VHAYyDWU"
      },
      "source": [
        "# pg-gan hello-world\n",
        "This notebook initializes a colab instance with pg-gan. It allows for remote runs of the model.\n",
        "(Currently only supports running with simulated data.)\n",
        "\n",
        "### TODO:\n",
        "- implement remote datastorage, access.\n",
        "- benchmark ingress/egress, if we have space for this in memory on the instance\n",
        "- benchmark runs on a real dataset"
      ]
    },
    {
      "cell_type": "markdown",
      "metadata": {
        "id": "uwCCz-JoZBiG"
      },
      "source": [
        "# Installation\n",
        "First, we need to install conda. (This is needed to install gsl, which is a dependency for msprime, which we use in our generator).\n",
        "\n",
        "\n",
        "Installation into colab based off of this article: https://towardsdatascience.com/conda-google-colab-75f7c867a522\n",
        "\n",
        "### Note:\n",
        "You may be wondering, \"why not just use `pip install gsl` to fix this?\"\n",
        "This is a very reasonable question. The answer is that wheel fails to build msprime properly when gsl is installed this way. Why this occurs, however, is still unclear. However, having gsl installed via conda seems to do the trick. For more detailed info, see the error log in the following cell."
      ]
    },
    {
      "cell_type": "code",
      "metadata": {
        "id": "HpfOelrXE7f5"
      },
      "source": [
        "# Debugging msprime installation\n",
        "# !pip install msprime --log LOG_FILE\n",
        "# !cat LOG_FILE"
      ],
      "execution_count": 1,
      "outputs": []
    },
    {
      "cell_type": "code",
      "metadata": {
        "id": "stD1y1iiFifJ"
      },
      "source": [
        "%%capture\n",
        "%%bash\n",
        "MINICONDA_INSTALLER_SCRIPT=Miniconda3-py37_4.9.2-Linux-x86_64.sh\n",
        "MINICONDA_PREFIX=/usr/local\n",
        "wget https://repo.continuum.io/miniconda/$MINICONDA_INSTALLER_SCRIPT\n",
        "chmod +x $MINICONDA_INSTALLER_SCRIPT\n",
        "./$MINICONDA_INSTALLER_SCRIPT -b -f -p $MINICONDA_PREFIX"
      ],
      "execution_count": 2,
      "outputs": []
    },
    {
      "cell_type": "code",
      "metadata": {
        "id": "dR9hi6YBJu37",
        "colab": {
          "base_uri": "https://localhost:8080/"
        },
        "outputId": "81e6b241-33ad-4ce2-e283-8d11c5f07afd"
      },
      "source": [
        "# verify conda and python versions. should be conda 4.9.2 and python 3.7.9\n",
        "!which conda\n",
        "!which python\n",
        "!conda --version\n",
        "!python --version"
      ],
      "execution_count": 3,
      "outputs": [
        {
          "output_type": "stream",
          "text": [
            "/usr/local/bin/conda\n",
            "/usr/local/bin/python\n",
            "conda 4.9.2\n",
            "Python 3.7.9\n"
          ],
          "name": "stdout"
        }
      ]
    },
    {
      "cell_type": "code",
      "metadata": {
        "id": "TJasesH1KMx7"
      },
      "source": [
        "# normally this would update conda to the most recent verrsion, but for now we'll just leave it at 4.9.2\n",
        "# %%bash\n",
        "# conda install --channel defaults conda python=3.7 --yes\n",
        "# conda update --channel defaults --all --yes\n",
        "# !conda --version\n",
        "# !python --version"
      ],
      "execution_count": 4,
      "outputs": []
    },
    {
      "cell_type": "code",
      "metadata": {
        "id": "SJuGxzpKIrL7"
      },
      "source": [
        "import sys\n",
        "_ = (sys.path\n",
        "        .append(\"/usr/local/lib/python3.7/site-packages\"))\n",
        "# sys.path # verify that /usr/local/lib/python3.7/site-packages appended to list"
      ],
      "execution_count": null,
      "outputs": []
    },
    {
      "cell_type": "code",
      "metadata": {
        "id": "oB1Ji3dzCPff"
      },
      "source": [
        "%%capture\n",
        "!conda install gsl --yes"
      ],
      "execution_count": 6,
      "outputs": []
    },
    {
      "cell_type": "code",
      "metadata": {
        "id": "OuBFEheBB0a9"
      },
      "source": [
        "%%capture\n",
        "# this will require an instance restart!!!\n",
        "!git clone https://github.com/apanana/pg-gan\n",
        "!pip install --upgrade pip\n",
        "!pip install -r pg-gan/requirements.txt"
      ],
      "execution_count": null,
      "outputs": []
    },
    {
      "cell_type": "markdown",
      "metadata": {
        "id": "_EP77SpIZdL9"
      },
      "source": [
        "# Following pip installation, need to restart the instance\n",
        "\n",
        "Also need to reinstall numpy (i think the version in the requirements.txt is too low. there's a tensorflow dependency that breaks if we don't do this)"
      ]
    },
    {
      "cell_type": "code",
      "metadata": {
        "id": "0s_rDSJCH2xv",
        "colab": {
          "base_uri": "https://localhost:8080/"
        },
        "outputId": "4ef6fd9c-acce-42da-8817-1db3c8de2c4a"
      },
      "source": [
        "%%capture\n",
        "# fix numpy version\n",
        "!pip install -U numpy"
      ],
      "execution_count": 3,
      "outputs": [
        {
          "output_type": "stream",
          "text": [
            "Requirement already satisfied: numpy in /usr/local/lib/python3.7/site-packages (1.19.5)\n",
            "Collecting numpy\n",
            "  Using cached numpy-1.20.2-cp37-cp37m-manylinux2010_x86_64.whl (15.3 MB)\n",
            "Installing collected packages: numpy\n",
            "  Attempting uninstall: numpy\n",
            "    Found existing installation: numpy 1.19.5\n",
            "    Uninstalling numpy-1.19.5:\n",
            "      Successfully uninstalled numpy-1.19.5\n",
            "\u001b[31mERROR: pip's dependency resolver does not currently take into account all the packages that are installed. This behaviour is the source of the following dependency conflicts.\n",
            "tensorflow 2.4.1 requires numpy~=1.19.2, but you have numpy 1.20.2 which is incompatible.\u001b[0m\n",
            "Successfully installed numpy-1.20.2\n"
          ],
          "name": "stdout"
        }
      ]
    },
    {
      "cell_type": "markdown",
      "metadata": {
        "id": "MVc2LZRV5k96"
      },
      "source": [
        "# Running pg-gan"
      ]
    },
    {
      "cell_type": "code",
      "metadata": {
        "id": "KYgOaKD-7Ec1"
      },
      "source": [
        "# Swap to timing branch\n",
        "%cd pg-gan\n",
        "!git checkout timing"
      ],
      "execution_count": null,
      "outputs": []
    },
    {
      "cell_type": "code",
      "metadata": {
        "id": "WKZNyL9wBRRn"
      },
      "source": [
        "# Runs pg-gan on a toy dataset\n",
        "!python3 pg_gan.py -m im -p N1,N2,N_anc,T_split,reco,mig -t"
      ],
      "execution_count": null,
      "outputs": []
    }
  ]
}